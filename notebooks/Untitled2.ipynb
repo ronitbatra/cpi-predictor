{
 "cells": [
  {
   "cell_type": "code",
   "execution_count": 1,
   "id": "db9f6b21-b12e-492e-b9d3-c1079c8d9faa",
   "metadata": {},
   "outputs": [
    {
     "ename": "ModuleNotFoundError",
     "evalue": "No module named 'tweepy'",
     "output_type": "error",
     "traceback": [
      "\u001b[0;31m---------------------------------------------------------------------------\u001b[0m",
      "\u001b[0;31mModuleNotFoundError\u001b[0m                       Traceback (most recent call last)",
      "Cell \u001b[0;32mIn[1], line 1\u001b[0m\n\u001b[0;32m----> 1\u001b[0m \u001b[38;5;28;01mimport\u001b[39;00m \u001b[38;5;21;01mtweepy\u001b[39;00m\n\u001b[1;32m      2\u001b[0m API_KEY \u001b[38;5;241m=\u001b[39m \u001b[38;5;124m'\u001b[39m\u001b[38;5;124mvX5rOrPJoaMyPyP14BLF0POYv\u001b[39m\u001b[38;5;124m'\u001b[39m\n\u001b[1;32m      3\u001b[0m API_SECRET_KEY \u001b[38;5;241m=\u001b[39m \u001b[38;5;124m'\u001b[39m\u001b[38;5;124mKyYjzD1IxwMAiUHCmfihZJwU7IDHvgyyNHgBNAXesrXciNFa19\u001b[39m\u001b[38;5;124m'\u001b[39m\n",
      "\u001b[0;31mModuleNotFoundError\u001b[0m: No module named 'tweepy'"
     ]
    }
   ],
   "source": [
    "import tweepy\n",
    "API_KEY = 'vX5rOrPJoaMyPyP14BLF0POYv'\n",
    "API_SECRET_KEY = 'KyYjzD1IxwMAiUHCmfihZJwU7IDHvgyyNHgBNAXesrXciNFa19'\n",
    "ACCESS_TOKEN = '1754941602089287682-cwo4lFnFmQNQbCiHUDX3w27IX94jwA'\n",
    "ACCESS_TOKEN_SECRET = 'zIyGUiRpHNLEXeKDO0hCSE3s0wSEhgHO8JHrbMXVz1Nbo'\n",
    "\n",
    "auth = tweepy.OAuthHandler(API_KEY, API_SECRET_KEY)\n",
    "auth.set_access_token(ACCESS_TOKEN, ACCESS_TOKEN_SECRET)\n",
    "\n",
    "api = tweepy.API(auth)"
   ]
  },
  {
   "cell_type": "code",
   "execution_count": null,
   "id": "a398aae4-e57f-42f4-9b1e-573bfbf65c50",
   "metadata": {},
   "outputs": [],
   "source": []
  },
  {
   "cell_type": "code",
   "execution_count": null,
   "id": "361940ba-59d7-481e-ac20-224cf8e7fc04",
   "metadata": {},
   "outputs": [],
   "source": []
  }
 ],
 "metadata": {
  "kernelspec": {
   "display_name": "Python 3 (ipykernel)",
   "language": "python",
   "name": "python3"
  },
  "language_info": {
   "codemirror_mode": {
    "name": "ipython",
    "version": 3
   },
   "file_extension": ".py",
   "mimetype": "text/x-python",
   "name": "python",
   "nbconvert_exporter": "python",
   "pygments_lexer": "ipython3",
   "version": "3.12.1"
  }
 },
 "nbformat": 4,
 "nbformat_minor": 5
}
