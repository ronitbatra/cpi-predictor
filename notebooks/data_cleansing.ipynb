{
 "cells": [
  {
   "cell_type": "code",
   "execution_count": 63,
   "id": "67d9516c-483c-4c98-9299-ca053a042d97",
   "metadata": {
    "scrolled": true
   },
   "outputs": [
    {
     "name": "stdout",
     "output_type": "stream",
     "text": [
      "<class 'pandas.core.frame.DataFrame'>\n",
      "RangeIndex: 1344 entries, 0 to 1343\n",
      "Data columns (total 3 columns):\n",
      " #   Column  Non-Null Count  Dtype  \n",
      "---  ------  --------------  -----  \n",
      " 0   Year    1344 non-null   int64  \n",
      " 1   Month   1344 non-null   object \n",
      " 2   CPI     1344 non-null   float64\n",
      "dtypes: float64(1), int64(1), object(1)\n",
      "memory usage: 31.6+ KB\n",
      "None\n"
     ]
    }
   ],
   "source": [
    "import pandas as pd\n",
    "\n",
    "#cleansing cpi data\n",
    "prev_cpi = pd.read_excel(\"../data/raw/cpi_data.csv\")\n",
    "prev_cpi = prev_cpi.drop(columns=[\"HALF1\", \"HALF2\"])\n",
    "prev_cpi = prev_cpi.melt(id_vars=[\"Year\"], var_name=\"Month\", value_name=\"CPI\")\n",
    "prev_cpi[\"Month\"] = prev_cpi[\"Month\"].str.strip().str.capitalize()\n",
    "month_mapping = {\n",
    "    \"Jan\": \"January\", \"Feb\": \"February\", \"Mar\": \"March\", \"Apr\": \"April\",\n",
    "    \"May\": \"May\", \"Jun\": \"June\", \"Jul\": \"July\", \"Aug\": \"August\",\n",
    "    \"Sep\": \"September\", \"Oct\": \"October\", \"Nov\": \"November\", \"Dec\": \"December\"\n",
    "}\n",
    "prev_cpi[\"Month\"] = prev_cpi[\"Month\"].replace(month_mapping)\n",
    "prev_cpi[\"Year\"] = prev_cpi[\"Year\"].astype(int)\n",
    "prev_cpi = prev_cpi.groupby([\"Year\", \"Month\"])[\"CPI\"].mean().reset_index()\n",
    "print(prev_cpi.info())"
   ]
  },
  {
   "cell_type": "code",
   "execution_count": 64,
   "id": "1fb53d9d-e8c5-4549-a524-8532064e45e9",
   "metadata": {
    "scrolled": true
   },
   "outputs": [
    {
     "name": "stdout",
     "output_type": "stream",
     "text": [
      "   Year      Month  Avg_Fed_Funds_Rate\n",
      "0  1954       July            0.799355\n",
      "1  1954     August            1.220645\n",
      "2  1954  September            1.066667\n",
      "3  1954    October            0.848710\n",
      "4  1954   November            0.833667\n"
     ]
    }
   ],
   "source": [
    "fed_funds_rate = pd.read_csv(\"../data/raw/DFF.csv\")\n",
    "fed_funds_rate[\"observation_date\"] = pd.to_datetime(fed_funds_rate[\"observation_date\"], errors=\"coerce\")\n",
    "\n",
    "fed_funds_rate[\"Year\"] = fed_funds_rate[\"observation_date\"].dt.year\n",
    "fed_funds_rate[\"Month\"] = fed_funds_rate[\"observation_date\"].dt.month\n",
    "\n",
    "fed_funds_rate.head()\n",
    "monthly_avg_fed_funds = fed_funds_rate.groupby([\"Year\", \"Month\"])[\"DFF\"].mean().reset_index()\n",
    "monthly_avg_fed_funds.rename(columns={\"DFF\": \"Avg_Fed_Funds_Rate\"}, inplace=True)\n",
    "\n",
    "monthly_avg_fed_funds[\"Month\"] = monthly_avg_fed_funds[\"Month\"].apply(lambda x: pd.to_datetime(str(x), format=\"%m\").strftime(\"%B\"))\n",
    "\n",
    "\n",
    "print(monthly_avg_fed_funds.head())"
   ]
  },
  {
   "cell_type": "code",
   "execution_count": 65,
   "id": "213bf3a7-150e-43b9-8a81-0b9fef6c1c57",
   "metadata": {},
   "outputs": [
    {
     "name": "stdout",
     "output_type": "stream",
     "text": [
      "   Year    Month       GDP\n",
      "0  1981  October  3280.818\n",
      "1  1982  January  3274.302\n",
      "2  1982    April  3331.972\n",
      "3  1982     July  3366.322\n",
      "4  1982  October  3402.561\n"
     ]
    }
   ],
   "source": [
    "gdp = pd.read_csv(\"../data/raw/GDP.csv\")\n",
    "\n",
    "gdp[\"observation_date\"] = pd.to_datetime(gdp[\"observation_date\"], errors=\"coerce\")\n",
    "\n",
    "gdp[\"Year\"] = gdp[\"observation_date\"].dt.year\n",
    "gdp[\"Month\"] = gdp[\"observation_date\"].dt.month\n",
    "\n",
    "gdp.drop(columns = \"observation_date\")\n",
    "\n",
    "gdp = gdp.groupby([\"Year\", \"Month\"])[\"GDP\"].mean().reset_index()\n",
    "\n",
    "gdp[\"Month\"] = gdp[\"Month\"].apply(lambda x: pd.to_datetime(str(x), format=\"%m\").strftime(\"%B\"))\n",
    "\n",
    "print(gdp.head())"
   ]
  },
  {
   "cell_type": "code",
   "execution_count": 66,
   "id": "ec6ad396-56f3-4adc-85a3-870d86766db2",
   "metadata": {},
   "outputs": [
    {
     "name": "stdout",
     "output_type": "stream",
     "text": [
      "   Year     Month  UNRATE\n",
      "0  1948   January     3.4\n",
      "1  1948  February     3.8\n",
      "2  1948     March     4.0\n",
      "3  1948     April     3.9\n",
      "4  1948       May     3.5\n"
     ]
    }
   ],
   "source": [
    "ur = pd.read_csv(\"../data/raw/UR.csv\")\n",
    "\n",
    "ur[\"observation_date\"] = pd.to_datetime(ur[\"observation_date\"], errors=\"coerce\")\n",
    "\n",
    "ur[\"Year\"] = ur[\"observation_date\"].dt.year\n",
    "ur[\"Month\"] = ur[\"observation_date\"].dt.month\n",
    "\n",
    "ur.drop(columns = \"observation_date\")\n",
    "\n",
    "ur = ur.groupby([\"Year\", \"Month\"])[\"UNRATE\"].mean().reset_index()\n",
    "\n",
    "ur[\"Month\"] = ur[\"Month\"].apply(lambda x: pd.to_datetime(str(x), format=\"%m\").strftime(\"%B\"))\n",
    "\n",
    "print(ur.head())"
   ]
  },
  {
   "cell_type": "code",
   "execution_count": 67,
   "id": "3d3dee12-ef02-4aeb-ab98-ad33fd0048c9",
   "metadata": {},
   "outputs": [
    {
     "name": "stdout",
     "output_type": "stream",
     "text": [
      "   Year     Month     WM2NS\n",
      "0  1980  November  1598.525\n",
      "1  1980  December  1603.140\n",
      "2  1981   January  1612.900\n",
      "3  1981  February  1608.125\n",
      "4  1981     March  1629.400\n"
     ]
    }
   ],
   "source": [
    "M2 = pd.read_csv(\"../data/raw/WM2NS.csv\")\n",
    "\n",
    "M2[\"observation_date\"] = pd.to_datetime(M2[\"observation_date\"], errors=\"coerce\")\n",
    "\n",
    "M2[\"Year\"] = M2[\"observation_date\"].dt.year\n",
    "M2[\"Month\"] = M2[\"observation_date\"].dt.month\n",
    "\n",
    "M2.drop(columns = \"observation_date\")\n",
    "\n",
    "M2 = M2.groupby([\"Year\", \"Month\"])[\"WM2NS\"].mean().reset_index()\n",
    "\n",
    "M2[\"Month\"] = M2[\"Month\"].apply(lambda x: pd.to_datetime(str(x), format=\"%m\").strftime(\"%B\"))\n",
    "\n",
    "print(M2.head())"
   ]
  },
  {
   "cell_type": "code",
   "execution_count": 68,
   "id": "f21c5ec6-4d52-401c-9ce3-f2336da6a249",
   "metadata": {},
   "outputs": [
    {
     "name": "stdout",
     "output_type": "stream",
     "text": [
      "<class 'pandas.core.frame.DataFrame'>\n",
      "RangeIndex: 1344 entries, 0 to 1343\n",
      "Data columns (total 3 columns):\n",
      " #   Column  Non-Null Count  Dtype  \n",
      "---  ------  --------------  -----  \n",
      " 0   Year    1344 non-null   int32  \n",
      " 1   Month   1344 non-null   object \n",
      " 2   PPIACO  1344 non-null   float64\n",
      "dtypes: float64(1), int32(1), object(1)\n",
      "memory usage: 26.4+ KB\n",
      "None\n"
     ]
    }
   ],
   "source": [
    "ppi = pd.read_csv(\"../data/raw/PPIACO.csv\")\n",
    "\n",
    "ppi[\"observation_date\"] = pd.to_datetime(ppi[\"observation_date\"], errors=\"coerce\")\n",
    "\n",
    "ppi[\"Year\"] = ppi[\"observation_date\"].dt.year\n",
    "ppi[\"Month\"] = ppi[\"observation_date\"].dt.month\n",
    "\n",
    "ppi.drop(columns = \"observation_date\")\n",
    "\n",
    "ppi = ppi.groupby([\"Year\", \"Month\"])[\"PPIACO\"].mean().reset_index()\n",
    "\n",
    "ppi[\"Month\"] = ppi[\"Month\"].apply(lambda x: pd.to_datetime(str(x), format=\"%m\").strftime(\"%B\"))\n",
    "\n",
    "print(ppi.info())"
   ]
  },
  {
   "cell_type": "code",
   "execution_count": 69,
   "id": "8acde298-a50a-43c5-8994-fdc1853f4525",
   "metadata": {},
   "outputs": [
    {
     "name": "stdout",
     "output_type": "stream",
     "text": [
      "   Year     Month   ICS\n",
      "0  1952  November  86.2\n",
      "1  1953    August  80.8\n",
      "2  1953  February  90.7\n",
      "3  1953  November  80.7\n",
      "4  1954  February  82.0\n"
     ]
    }
   ],
   "source": [
    "ICS = pd.read_excel(\"../data/raw/redbk01a.csv\")\n",
    "\n",
    "ICS.columns = [\"Month\", \"Year\", \"ICS\", \"Cases\"]\n",
    "\n",
    "ICS = ICS.dropna(subset=[\"Year\", \"Month\", \"ICS\"])\n",
    "\n",
    "ICS[\"Year\"] = ICS[\"Year\"].astype(int)\n",
    "ICS[\"Month\"] = ICS[\"Month\"].str.strip().str.capitalize()\n",
    "\n",
    "ICS = ICS.groupby([\"Year\", \"Month\"])[\"ICS\"].mean().reset_index()\n",
    "\n",
    "print(ICS.head())"
   ]
  },
  {
   "cell_type": "code",
   "execution_count": 70,
   "id": "be9281d4-9275-4fed-a18a-87da321eb4c7",
   "metadata": {},
   "outputs": [
    {
     "name": "stdout",
     "output_type": "stream",
     "text": [
      "<class 'pandas.core.frame.DataFrame'>\n",
      "RangeIndex: 422 entries, 0 to 421\n",
      "Data columns (total 3 columns):\n",
      " #   Column  Non-Null Count  Dtype  \n",
      "---  ------  --------------  -----  \n",
      " 0   Year    422 non-null    int32  \n",
      " 1   Month   422 non-null    object \n",
      " 2   VIXCLS  422 non-null    float64\n",
      "dtypes: float64(1), int32(1), object(1)\n",
      "memory usage: 8.4+ KB\n",
      "None\n"
     ]
    }
   ],
   "source": [
    "vix = pd.read_csv(\"../data/raw/VIXCLS.csv\")\n",
    "\n",
    "vix[\"observation_date\"] = pd.to_datetime(vix[\"observation_date\"], errors=\"coerce\")\n",
    "\n",
    "vix[\"Year\"] = vix[\"observation_date\"].dt.year\n",
    "vix[\"Month\"] = vix[\"observation_date\"].dt.month\n",
    "\n",
    "vix.drop(columns = \"observation_date\")\n",
    "\n",
    "vix = vix.groupby([\"Year\", \"Month\"])[\"VIXCLS\"].mean().reset_index()\n",
    "\n",
    "vix[\"Month\"] = vix[\"Month\"].apply(lambda x: pd.to_datetime(str(x), format=\"%m\").strftime(\"%B\"))\n",
    "\n",
    "print(vix.info())"
   ]
  },
  {
   "cell_type": "code",
   "execution_count": 78,
   "id": "264b9b89-52da-463a-ae6d-6267d74dbb5c",
   "metadata": {
    "scrolled": true
   },
   "outputs": [
    {
     "name": "stdout",
     "output_type": "stream",
     "text": [
      "<bound method DataFrame.info of       Year     Month  CPI_Index  PPI_Index  Avg_Fed_Funds_Rate  GDP_Value  \\\n",
      "928   1990   January    127.400    114.900            8.229032   5872.701   \n",
      "927   1990  February    128.000    114.400            8.237143   5872.701   \n",
      "931   1990     March    128.700    114.200            8.276774   5872.701   \n",
      "924   1990     April    128.900    114.100            8.255000   5960.028   \n",
      "932   1990       May    129.200    114.600            8.176452   5960.028   \n",
      "...    ...       ...        ...        ...                 ...        ...   \n",
      "1342  2024   October    315.664    253.022            4.830000  25215.491   \n",
      "1341  2024  November    315.493    253.150            4.638333  25215.491   \n",
      "1334  2024  December    315.605    253.548            4.475161  25215.491   \n",
      "1344  2025   January    315.605    253.548            4.330000  25215.491   \n",
      "1345  2025  February    315.605    253.548            4.330000  25215.491   \n",
      "\n",
      "      Unemployment_Rate  Money_Supply_M2  Consumer_Sentiment_Index  VIX_Index  \n",
      "928                 5.4         3173.160                      93.0  23.347273  \n",
      "927                 5.3         3169.175                      89.5  23.262632  \n",
      "931                 5.2         3189.875                      91.3  20.062273  \n",
      "924                 5.4         3216.700                      93.9  21.403500  \n",
      "932                 5.4         3186.150                      90.6  18.097727  \n",
      "...                 ...              ...                       ...        ...  \n",
      "1342                4.1        21230.250                      70.5  19.960870  \n",
      "1341                4.2        21423.800                      71.8  16.015238  \n",
      "1334                4.1        21619.020                      74.0  15.866190  \n",
      "1344                4.0        21692.100                      74.0  16.763636  \n",
      "1345                4.0        21692.100                      74.0  16.728000  \n",
      "\n",
      "[422 rows x 10 columns]>\n"
     ]
    },
    {
     "name": "stderr",
     "output_type": "stream",
     "text": [
      "/var/folders/ng/wr8jbtzd7vd34mpv1ddk7qvc0000gn/T/ipykernel_37480/3665154036.py:29: FutureWarning: DataFrame.fillna with 'method' is deprecated and will raise in a future version. Use obj.ffill() or obj.bfill() instead.\n",
      "  merged_data.fillna(method=\"ffill\", inplace=True)\n"
     ]
    }
   ],
   "source": [
    "merged_data = prev_cpi.merge(ppi, on=[\"Year\", \"Month\"], how=\"outer\")\n",
    "merged_data = merged_data.merge(monthly_avg_fed_funds, on=[\"Year\", \"Month\"], how=\"outer\")\n",
    "merged_data = merged_data.merge(gdp, on=[\"Year\", \"Month\"], how=\"outer\")\n",
    "merged_data = merged_data.merge(ur, on=[\"Year\", \"Month\"], how=\"outer\")\n",
    "merged_data = merged_data.merge(M2, on=[\"Year\", \"Month\"], how=\"outer\")\n",
    "merged_data = merged_data.merge(ICS, on=[\"Year\", \"Month\"], how=\"outer\")\n",
    "merged_data = merged_data.merge(vix, on=[\"Year\", \"Month\"], how=\"outer\")\n",
    "\n",
    "merged_data.rename(columns={\n",
    "    \"CPI\": \"CPI_Index\",\n",
    "    \"PPIACO\": \"PPI_Index\",\n",
    "    \"Fed_Funds_Rate\": \"Fed_Funds_Rate\",\n",
    "    \"GDP\": \"GDP_Value\",\n",
    "    \"UNRATE\": \"Unemployment_Rate\",\n",
    "    \"WM2NS\": \"Money_Supply_M2\",\n",
    "    \"ICS\": \"Consumer_Sentiment_Index\",\n",
    "    \"VIXCLS\": \"VIX_Index\"\n",
    "}, inplace=True)\n",
    "\n",
    "month_order = [\n",
    "    \"January\", \"February\", \"March\", \"April\", \"May\", \"June\",\n",
    "    \"July\", \"August\", \"September\", \"October\", \"November\", \"December\"\n",
    "]\n",
    "\n",
    "merged_data[\"Month\"] = pd.Categorical(merged_data[\"Month\"], categories=month_order, ordered=True)\n",
    "\n",
    "merged_data = merged_data.sort_values(by=[\"Year\", \"Month\"])\n",
    "\n",
    "merged_data.fillna(method=\"ffill\", inplace=True)\n",
    "merged_data = merged_data.dropna()\n",
    "print(merged_data.info)\n",
    "merged_data.to_csv(\"../data/processed/merged_macro_data.csv\", index=False)\n"
   ]
  },
  {
   "cell_type": "code",
   "execution_count": null,
   "id": "e82a832c-2783-488a-8a3d-0196c61f5bb9",
   "metadata": {},
   "outputs": [],
   "source": []
  }
 ],
 "metadata": {
  "kernelspec": {
   "display_name": "Python 3 (ipykernel)",
   "language": "python",
   "name": "python3"
  },
  "language_info": {
   "codemirror_mode": {
    "name": "ipython",
    "version": 3
   },
   "file_extension": ".py",
   "mimetype": "text/x-python",
   "name": "python",
   "nbconvert_exporter": "python",
   "pygments_lexer": "ipython3",
   "version": "3.12.1"
  }
 },
 "nbformat": 4,
 "nbformat_minor": 5
}
